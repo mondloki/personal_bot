{
 "cells": [
  {
   "cell_type": "code",
   "execution_count": 4,
   "metadata": {},
   "outputs": [
    {
     "ename": "error",
     "evalue": "(0, 'SetForegroundWindow', 'No error message is available')",
     "output_type": "error",
     "traceback": [
      "\u001b[31m---------------------------------------------------------------------------\u001b[39m",
      "\u001b[31merror\u001b[39m                                     Traceback (most recent call last)",
      "\u001b[36mCell\u001b[39m\u001b[36m \u001b[39m\u001b[32mIn[4]\u001b[39m\u001b[32m, line 6\u001b[39m\n\u001b[32m      4\u001b[39m \u001b[38;5;28;01mif\u001b[39;00m hwnd:\n\u001b[32m      5\u001b[39m     win32gui.ShowWindow(hwnd, win32con.SW_RESTORE)  \u001b[38;5;66;03m# Restore if minimized\u001b[39;00m\n\u001b[32m----> \u001b[39m\u001b[32m6\u001b[39m     \u001b[43mwin32gui\u001b[49m\u001b[43m.\u001b[49m\u001b[43mSetForegroundWindow\u001b[49m\u001b[43m(\u001b[49m\u001b[43mhwnd\u001b[49m\u001b[43m)\u001b[49m  \u001b[38;5;66;03m# Bring to foreground\u001b[39;00m\n\u001b[32m      7\u001b[39m     \u001b[38;5;28mprint\u001b[39m(\u001b[33m\"\u001b[39m\u001b[33mClock app brought to foreground.\u001b[39m\u001b[33m\"\u001b[39m)\n\u001b[32m      8\u001b[39m \u001b[38;5;28;01melse\u001b[39;00m:\n",
      "\u001b[31merror\u001b[39m: (0, 'SetForegroundWindow', 'No error message is available')"
     ]
    }
   ],
   "source": [
    "\n",
    "import win32gui\n",
    "import win32con\n",
    "hwnd = win32gui.FindWindow(None, \"Clock\")  # Change to your app name\n",
    "if hwnd:\n",
    "    win32gui.ShowWindow(hwnd, win32con.SW_RESTORE)  # Restore if minimized\n",
    "    win32gui.SetForegroundWindow(hwnd)  # Bring to foreground\n",
    "    print(\"Clock app brought to foreground.\")\n",
    "else:\n",
    "    print(\"Clock app not found.\")"
   ]
  },
  {
   "cell_type": "code",
   "execution_count": 6,
   "metadata": {},
   "outputs": [
    {
     "name": "stdout",
     "output_type": "stream",
     "text": [
      "Handle: 1444162, Title: experiments.ipynb - personal_bot - Visual Studio Code\n",
      "Handle: 132482, Title: Xbox\n",
      "Handle: 329172, Title: Accessing system alarm Python and 5 more pages - Personal - Microsoft​ Edge\n",
      "Handle: 330072, Title: Clock\n",
      "Handle: 591908, Title: Downloads - File Explorer\n",
      "Handle: 919526, Title: Xbox\n",
      "Handle: 262262, Title: personal_bot - File Explorer\n",
      "Handle: 198420, Title: CCleaner Free\n",
      "Handle: 132248, Title: CCleaner - FOR HOME USE ONLY\n",
      "Handle: 199120, Title: Clock\n",
      "Handle: 65966, Title: Program Manager\n"
     ]
    }
   ],
   "source": [
    "import win32gui\n",
    "\n",
    "def enum_windows(hwnd, results):\n",
    "    if win32gui.IsWindowVisible(hwnd):\n",
    "        title = win32gui.GetWindowText(hwnd)\n",
    "        if title:  # Ignore empty titles\n",
    "            results.append((hwnd, title))\n",
    "\n",
    "windows = []\n",
    "win32gui.EnumWindows(enum_windows, windows)\n",
    "\n",
    "for hwnd, title in windows:\n",
    "    print(f\"Handle: {hwnd}, Title: {title}\")"
   ]
  },
  {
   "cell_type": "code",
   "execution_count": null,
   "metadata": {},
   "outputs": [],
   "source": []
  }
 ],
 "metadata": {
  "kernelspec": {
   "display_name": "py313",
   "language": "python",
   "name": "python3"
  },
  "language_info": {
   "codemirror_mode": {
    "name": "ipython",
    "version": 3
   },
   "file_extension": ".py",
   "mimetype": "text/x-python",
   "name": "python",
   "nbconvert_exporter": "python",
   "pygments_lexer": "ipython3",
   "version": "3.13.2"
  }
 },
 "nbformat": 4,
 "nbformat_minor": 2
}
